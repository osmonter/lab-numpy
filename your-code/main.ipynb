{
 "cells": [
  {
   "cell_type": "markdown",
   "metadata": {},
   "source": [
    "# Intrduction to NumPy\n",
    "\n",
    "\n",
    "#### 1. Import NumPy under the name np."
   ]
  },
  {
   "cell_type": "code",
   "execution_count": 159,
   "metadata": {
    "ExecuteTime": {
     "end_time": "2020-01-26T21:46:21.489984Z",
     "start_time": "2020-01-26T21:46:21.485880Z"
    }
   },
   "outputs": [],
   "source": [
    "# your code here\n",
    "\n",
    "import numpy as np"
   ]
  },
  {
   "cell_type": "markdown",
   "metadata": {},
   "source": [
    "#### 2. Print your NumPy version."
   ]
  },
  {
   "cell_type": "code",
   "execution_count": 160,
   "metadata": {
    "ExecuteTime": {
     "end_time": "2020-01-26T21:46:22.889500Z",
     "start_time": "2020-01-26T21:46:22.884303Z"
    }
   },
   "outputs": [
    {
     "name": "stdout",
     "output_type": "stream",
     "text": [
      "1.17.4\n"
     ]
    }
   ],
   "source": [
    "# your code here\n",
    "\n",
    "print(np.__version__)"
   ]
  },
  {
   "cell_type": "markdown",
   "metadata": {},
   "source": [
    "#### 3. Generate a 2x3x5 3-dimensional array with random values. Assign the array to variable *a*.\n",
    "**Challenge**: there are at least three easy ways that use numpy to generate random arrays. How many ways can you find?"
   ]
  },
  {
   "cell_type": "code",
   "execution_count": 161,
   "metadata": {
    "ExecuteTime": {
     "end_time": "2020-01-26T21:46:24.337310Z",
     "start_time": "2020-01-26T21:46:24.331722Z"
    }
   },
   "outputs": [
    {
     "name": "stdout",
     "output_type": "stream",
     "text": [
      "[[[0.57494258 0.05845024 0.50159043 0.39268936 0.4848467 ]\n",
      "  [0.10549308 0.03852718 0.55102707 0.79676006 0.30340151]\n",
      "  [0.35820105 0.0853647  0.18920287 0.64218158 0.34850116]]\n",
      "\n",
      " [[0.65225389 0.71503137 0.55639067 0.55567036 0.15322639]\n",
      "  [0.26911817 0.99552653 0.17566154 0.18483521 0.67331349]\n",
      "  [0.29951677 0.19127028 0.85321157 0.74510213 0.99898379]]]\n"
     ]
    }
   ],
   "source": [
    "# Method 1\n",
    "\n",
    "a = np.random.random((2, 3, 5))\n",
    "print(a)"
   ]
  },
  {
   "cell_type": "code",
   "execution_count": 162,
   "metadata": {
    "ExecuteTime": {
     "end_time": "2020-01-26T21:46:25.225818Z",
     "start_time": "2020-01-26T21:46:25.220247Z"
    }
   },
   "outputs": [
    {
     "name": "stdout",
     "output_type": "stream",
     "text": [
      "[[[0.04757227 0.80644644 0.15669784 0.94151326 0.76709249]\n",
      "  [0.00226832 0.51451636 0.16458257 0.24042782 0.61409195]\n",
      "  [0.16024358 0.43847251 0.10004412 0.09088032 0.57300951]]\n",
      "\n",
      " [[0.70687921 0.19434142 0.48368647 0.45281982 0.90190254]\n",
      "  [0.84491979 0.95002459 0.57574803 0.77004616 0.2038979 ]\n",
      "  [0.18150884 0.43233195 0.10562621 0.3921633  0.32584982]]]\n"
     ]
    }
   ],
   "source": [
    "# Method 2\n",
    "\n",
    "a2 = np.random.random_sample(size = (2, 3, 5))\n",
    "\n",
    "print (a2)"
   ]
  },
  {
   "cell_type": "code",
   "execution_count": 163,
   "metadata": {
    "ExecuteTime": {
     "end_time": "2020-01-26T21:46:26.323657Z",
     "start_time": "2020-01-26T21:46:26.289429Z"
    }
   },
   "outputs": [
    {
     "name": "stdout",
     "output_type": "stream",
     "text": [
      "[[[0.68292415 0.99388798 0.77611725 0.78767037 0.47297444]\n",
      "  [0.73074551 0.07704713 0.02759834 0.19127393 0.12489663]\n",
      "  [0.25304514 0.07278138 0.11250597 0.14069444 0.77517518]]\n",
      "\n",
      " [[0.11850713 0.14913526 0.10480675 0.88793048 0.00981893]\n",
      "  [0.58793255 0.01471662 0.6174558  0.5633411  0.12395047]\n",
      "  [0.14000092 0.05030332 0.1508911  0.00291909 0.73215189]]]\n"
     ]
    }
   ],
   "source": [
    "# Method 3\n",
    "\n",
    "a3 = np.random.random_sample(size = (2, 3, 5))\n",
    "\n",
    "print (a3)\n",
    "\n",
    "# De esta manera le indico que los números serán menores de 10. Generará solamente integers, al poner randint."
   ]
  },
  {
   "cell_type": "markdown",
   "metadata": {},
   "source": [
    "#### 4. Print *a*.\n"
   ]
  },
  {
   "cell_type": "code",
   "execution_count": 167,
   "metadata": {
    "ExecuteTime": {
     "end_time": "2020-01-26T21:47:41.994994Z",
     "start_time": "2020-01-26T21:47:41.974923Z"
    }
   },
   "outputs": [
    {
     "name": "stdout",
     "output_type": "stream",
     "text": [
      "[[[0.57494258 0.05845024 0.50159043 0.39268936 0.4848467 ]\n",
      "  [0.10549308 0.03852718 0.55102707 0.79676006 0.30340151]\n",
      "  [0.35820105 0.0853647  0.18920287 0.64218158 0.34850116]]\n",
      "\n",
      " [[0.65225389 0.71503137 0.55639067 0.55567036 0.15322639]\n",
      "  [0.26911817 0.99552653 0.17566154 0.18483521 0.67331349]\n",
      "  [0.29951677 0.19127028 0.85321157 0.74510213 0.99898379]]]\n",
      "\n",
      "Numero de dimensiones de a - 3\n",
      "\n",
      "Shape de a - (2, 3, 5)\n"
     ]
    }
   ],
   "source": [
    "# your code here\n",
    "\n",
    "print(a)\n",
    "print(\"\")\n",
    "print(\"Numero de dimensiones de a -\", a.ndim) # Para comprobar que es de 3 dimensiones\n",
    "print(\"\")\n",
    "print(\"Shape de a -\", a.shape) # Para comprobar el shape es correcto"
   ]
  },
  {
   "cell_type": "markdown",
   "metadata": {},
   "source": [
    "#### 5. Create a 5x2x3 3-dimensional array with all values equaling 1. Assign the array to variable *b*."
   ]
  },
  {
   "cell_type": "code",
   "execution_count": 170,
   "metadata": {
    "ExecuteTime": {
     "end_time": "2020-01-26T21:48:45.727951Z",
     "start_time": "2020-01-26T21:48:45.721068Z"
    }
   },
   "outputs": [
    {
     "name": "stdout",
     "output_type": "stream",
     "text": [
      "Numero de dimensiones de b - 3\n",
      "\n",
      "Shape de b - (5, 2, 3)\n"
     ]
    }
   ],
   "source": [
    "# your code here\n",
    "\n",
    "b = np.ones((5, 2, 3))\n",
    "\n",
    "print(\"Numero de dimensiones de b -\", b.ndim) # Para comprobar que es de 3 dimensiones\n",
    "print(\"\")\n",
    "print(\"Shape de b -\", b.shape) # Para comprobar el shape es correcto"
   ]
  },
  {
   "cell_type": "markdown",
   "metadata": {},
   "source": [
    "#### 6. Print *b*.\n"
   ]
  },
  {
   "cell_type": "code",
   "execution_count": 171,
   "metadata": {
    "ExecuteTime": {
     "end_time": "2020-01-26T21:48:47.087970Z",
     "start_time": "2020-01-26T21:48:47.078511Z"
    }
   },
   "outputs": [
    {
     "name": "stdout",
     "output_type": "stream",
     "text": [
      "[[[1. 1. 1.]\n",
      "  [1. 1. 1.]]\n",
      "\n",
      " [[1. 1. 1.]\n",
      "  [1. 1. 1.]]\n",
      "\n",
      " [[1. 1. 1.]\n",
      "  [1. 1. 1.]]\n",
      "\n",
      " [[1. 1. 1.]\n",
      "  [1. 1. 1.]]\n",
      "\n",
      " [[1. 1. 1.]\n",
      "  [1. 1. 1.]]]\n"
     ]
    }
   ],
   "source": [
    "# your code here\n",
    "\n",
    "print (b)"
   ]
  },
  {
   "cell_type": "markdown",
   "metadata": {},
   "source": [
    "#### 7. Do *a* and *b* have the same size? How do you prove that in Python code?"
   ]
  },
  {
   "cell_type": "code",
   "execution_count": 172,
   "metadata": {
    "ExecuteTime": {
     "end_time": "2020-01-26T21:48:49.233706Z",
     "start_time": "2020-01-26T21:48:49.226359Z"
    }
   },
   "outputs": [
    {
     "name": "stdout",
     "output_type": "stream",
     "text": [
      "True\n"
     ]
    }
   ],
   "source": [
    "# your code here\n",
    "\n",
    "# Llamaremos al size de cada una (número total de elementos de cada n-dimensional array) y los comparamos.\n",
    "\n",
    "if b.size == a.size:\n",
    "    print (\"True\")\n",
    "else:\n",
    "    print (\"False\")"
   ]
  },
  {
   "cell_type": "markdown",
   "metadata": {},
   "source": [
    "#### 8. Are you able to add *a* and *b*? Why or why not?\n"
   ]
  },
  {
   "cell_type": "code",
   "execution_count": 173,
   "metadata": {
    "ExecuteTime": {
     "end_time": "2020-01-26T21:48:51.245970Z",
     "start_time": "2020-01-26T21:48:51.236048Z"
    }
   },
   "outputs": [
    {
     "ename": "ValueError",
     "evalue": "operands could not be broadcast together with shapes (2,3,5) (5,2,3) ",
     "output_type": "error",
     "traceback": [
      "\u001b[0;31m---------------------------------------------------------------------------\u001b[0m",
      "\u001b[0;31mValueError\u001b[0m                                Traceback (most recent call last)",
      "\u001b[0;32m<ipython-input-173-62352ae62e3c>\u001b[0m in \u001b[0;36m<module>\u001b[0;34m\u001b[0m\n\u001b[1;32m      3\u001b[0m \u001b[0;31m# No permite add a y b porque no tienen el mismo shape.\u001b[0m\u001b[0;34m\u001b[0m\u001b[0;34m\u001b[0m\u001b[0;34m\u001b[0m\u001b[0m\n\u001b[1;32m      4\u001b[0m \u001b[0;34m\u001b[0m\u001b[0m\n\u001b[0;32m----> 5\u001b[0;31m \u001b[0mnp\u001b[0m\u001b[0;34m.\u001b[0m\u001b[0madd\u001b[0m\u001b[0;34m(\u001b[0m\u001b[0ma\u001b[0m\u001b[0;34m,\u001b[0m \u001b[0mb\u001b[0m\u001b[0;34m)\u001b[0m\u001b[0;34m\u001b[0m\u001b[0;34m\u001b[0m\u001b[0m\n\u001b[0m",
      "\u001b[0;31mValueError\u001b[0m: operands could not be broadcast together with shapes (2,3,5) (5,2,3) "
     ]
    }
   ],
   "source": [
    "# your answer here\n",
    "\n",
    "# No permite add a y b porque no tienen el mismo shape.\n",
    "\n",
    "np.add(a, b)"
   ]
  },
  {
   "cell_type": "markdown",
   "metadata": {},
   "source": [
    "#### 9. Transpose *b* so that it has the same structure of *a* (i.e. become a 2x3x5 array). Assign the transposed array to variable *c*."
   ]
  },
  {
   "cell_type": "code",
   "execution_count": 174,
   "metadata": {
    "ExecuteTime": {
     "end_time": "2020-01-26T21:48:54.794749Z",
     "start_time": "2020-01-26T21:48:54.780888Z"
    }
   },
   "outputs": [
    {
     "name": "stdout",
     "output_type": "stream",
     "text": [
      "[[[1. 1. 1. 1. 1.]\n",
      "  [1. 1. 1. 1. 1.]\n",
      "  [1. 1. 1. 1. 1.]]\n",
      "\n",
      " [[1. 1. 1. 1. 1.]\n",
      "  [1. 1. 1. 1. 1.]\n",
      "  [1. 1. 1. 1. 1.]]]\n"
     ]
    },
    {
     "data": {
      "text/plain": [
       "(2, 3, 5)"
      ]
     },
     "execution_count": 174,
     "metadata": {},
     "output_type": "execute_result"
    }
   ],
   "source": [
    "# your code here\n",
    "\n",
    "c = np.transpose(b,(1,2,0)) \n",
    "\n",
    "# Con (b,(1,2,0)) defino el orden en el que se colocarán los axes de b al hacer transpose.\n",
    "# Es decir, en la posición 0 queremos que el 2, que era la posición. \n",
    "# En la posición 1, queremos el 3, que era la posición 2.\n",
    "# En la posición 3, queremos el 5, que era la posición 0.\n",
    "\n",
    "print(c)\n",
    "\n",
    "c.shape"
   ]
  },
  {
   "cell_type": "markdown",
   "metadata": {},
   "source": [
    "#### 10. Try to add *a* and *c*. Now it should work. Assign the sum to variable *d*. But why does it work now?"
   ]
  },
  {
   "cell_type": "code",
   "execution_count": 175,
   "metadata": {
    "ExecuteTime": {
     "end_time": "2020-01-26T21:48:57.091431Z",
     "start_time": "2020-01-26T21:48:57.086349Z"
    }
   },
   "outputs": [
    {
     "name": "stdout",
     "output_type": "stream",
     "text": [
      "[[[1.57494258 1.05845024 1.50159043 1.39268936 1.4848467 ]\n",
      "  [1.10549308 1.03852718 1.55102707 1.79676006 1.30340151]\n",
      "  [1.35820105 1.0853647  1.18920287 1.64218158 1.34850116]]\n",
      "\n",
      " [[1.65225389 1.71503137 1.55639067 1.55567036 1.15322639]\n",
      "  [1.26911817 1.99552653 1.17566154 1.18483521 1.67331349]\n",
      "  [1.29951677 1.19127028 1.85321157 1.74510213 1.99898379]]]\n"
     ]
    }
   ],
   "source": [
    "# your code/answer here\n",
    "\n",
    "d = np.add(a, c)\n",
    "\n",
    "print(d)\n",
    "\n",
    "# Ahora funciona porque ambas matrices tienen tanto el mismo size como el mismo shape (2,3,5).\n",
    "# Los elementos están colocados de la misma manera, y por eso se pueden sumar."
   ]
  },
  {
   "cell_type": "markdown",
   "metadata": {},
   "source": [
    "#### 11. Print *a* and *d*. Notice the difference and relation of the two array in terms of the values? Explain."
   ]
  },
  {
   "cell_type": "code",
   "execution_count": 176,
   "metadata": {
    "ExecuteTime": {
     "end_time": "2020-01-26T21:48:59.099144Z",
     "start_time": "2020-01-26T21:48:59.095490Z"
    }
   },
   "outputs": [
    {
     "name": "stdout",
     "output_type": "stream",
     "text": [
      "[[[0.57494258 0.05845024 0.50159043 0.39268936 0.4848467 ]\n",
      "  [0.10549308 0.03852718 0.55102707 0.79676006 0.30340151]\n",
      "  [0.35820105 0.0853647  0.18920287 0.64218158 0.34850116]]\n",
      "\n",
      " [[0.65225389 0.71503137 0.55639067 0.55567036 0.15322639]\n",
      "  [0.26911817 0.99552653 0.17566154 0.18483521 0.67331349]\n",
      "  [0.29951677 0.19127028 0.85321157 0.74510213 0.99898379]]]\n"
     ]
    }
   ],
   "source": [
    "# your code/answer here\n",
    "\n",
    "print(a)"
   ]
  },
  {
   "cell_type": "code",
   "execution_count": 177,
   "metadata": {
    "ExecuteTime": {
     "end_time": "2020-01-26T21:49:00.492836Z",
     "start_time": "2020-01-26T21:49:00.488978Z"
    }
   },
   "outputs": [
    {
     "name": "stdout",
     "output_type": "stream",
     "text": [
      "[[[1.57494258 1.05845024 1.50159043 1.39268936 1.4848467 ]\n",
      "  [1.10549308 1.03852718 1.55102707 1.79676006 1.30340151]\n",
      "  [1.35820105 1.0853647  1.18920287 1.64218158 1.34850116]]\n",
      "\n",
      " [[1.65225389 1.71503137 1.55639067 1.55567036 1.15322639]\n",
      "  [1.26911817 1.99552653 1.17566154 1.18483521 1.67331349]\n",
      "  [1.29951677 1.19127028 1.85321157 1.74510213 1.99898379]]]\n"
     ]
    }
   ],
   "source": [
    "print(d)"
   ]
  },
  {
   "cell_type": "code",
   "execution_count": 178,
   "metadata": {
    "ExecuteTime": {
     "end_time": "2020-01-26T21:49:03.132678Z",
     "start_time": "2020-01-26T21:49:03.120504Z"
    }
   },
   "outputs": [],
   "source": [
    "# La matrix \"d\" es igual que la matriz \"a\" pero sumando 1 a cada elemento."
   ]
  },
  {
   "cell_type": "markdown",
   "metadata": {},
   "source": [
    "#### 12. Multiply *a* and *c*. Assign the result to *e*."
   ]
  },
  {
   "cell_type": "code",
   "execution_count": 208,
   "metadata": {
    "ExecuteTime": {
     "end_time": "2020-01-26T21:53:01.752115Z",
     "start_time": "2020-01-26T21:53:01.747120Z"
    }
   },
   "outputs": [
    {
     "name": "stdout",
     "output_type": "stream",
     "text": [
      "[[[0.57494258 0.05845024 0.50159043 0.39268936 0.4848467 ]\n",
      "  [0.10549308 0.03852718 0.55102707 0.79676006 0.30340151]\n",
      "  [0.35820105 0.0853647  0.18920287 0.64218158 0.34850116]]\n",
      "\n",
      " [[0.65225389 0.71503137 0.55639067 0.55567036 0.15322639]\n",
      "  [0.26911817 0.99552653 0.17566154 0.18483521 0.67331349]\n",
      "  [0.29951677 0.19127028 0.85321157 0.74510213 0.99898379]]]\n"
     ]
    }
   ],
   "source": [
    "# your code here\n",
    "\n",
    "e = np.multiply(a, c)\n",
    "\n",
    "print(e)"
   ]
  },
  {
   "cell_type": "markdown",
   "metadata": {},
   "source": [
    "#### 13. Does *e* equal to *a*? Why or why not?\n"
   ]
  },
  {
   "cell_type": "code",
   "execution_count": 209,
   "metadata": {
    "ExecuteTime": {
     "end_time": "2020-01-26T21:53:03.760940Z",
     "start_time": "2020-01-26T21:53:03.754470Z"
    }
   },
   "outputs": [
    {
     "data": {
      "text/plain": [
       "True"
      ]
     },
     "execution_count": 209,
     "metadata": {},
     "output_type": "execute_result"
    }
   ],
   "source": [
    "# your code/answer here\n",
    "\n",
    "np.array_equal(a,e) \n",
    "\n",
    "# Iguales porque estamos multiplicando todos los elementos de la matriz \"a\" por 1, que son los elementos de la matriz \"d\""
   ]
  },
  {
   "cell_type": "code",
   "execution_count": 210,
   "metadata": {
    "ExecuteTime": {
     "end_time": "2020-01-26T21:53:06.425240Z",
     "start_time": "2020-01-26T21:53:06.420412Z"
    }
   },
   "outputs": [
    {
     "data": {
      "text/plain": [
       "True"
      ]
     },
     "execution_count": 210,
     "metadata": {},
     "output_type": "execute_result"
    }
   ],
   "source": [
    "# Otra manera que he encontrado sería (a==e).all() - Comparada que todos los elementos de ambas matrices, sean iguales.\n",
    "\n",
    "(a==e).all()"
   ]
  },
  {
   "cell_type": "markdown",
   "metadata": {},
   "source": [
    "#### 14. Identify the max, min, and mean values in *d*. Assign those values to variables *d_max*, *d_min* and *d_mean*."
   ]
  },
  {
   "cell_type": "code",
   "execution_count": 211,
   "metadata": {
    "ExecuteTime": {
     "end_time": "2020-01-26T21:53:08.107545Z",
     "start_time": "2020-01-26T21:53:08.097235Z"
    }
   },
   "outputs": [
    {
     "name": "stdout",
     "output_type": "stream",
     "text": [
      "The max value in d is: 1.9989837930388266\n",
      "The min value in d is: 1.038527181963165\n",
      "The mean value in d is: 1.4483430576070488\n"
     ]
    }
   ],
   "source": [
    "# your code here\n",
    "\n",
    "d_max = np.max(d) # Otra forma d_max = d.max()\n",
    "print (\"The max value in d is:\", d_max)\n",
    "\n",
    "d_min = np.min(d) # Otra forma d_max = d.min()\n",
    "print (\"The min value in d is:\", d_min)\n",
    "\n",
    "d_mean = np.mean(d) # Otra forma d_max = d.mean()\n",
    "print (\"The mean value in d is:\", d_mean)"
   ]
  },
  {
   "cell_type": "markdown",
   "metadata": {},
   "source": [
    "#### 15. Now we want to label the values in *d*. First create an empty array *f* with the same shape (i.e. 2x3x5) as *d* using `np.empty`.\n"
   ]
  },
  {
   "cell_type": "code",
   "execution_count": 226,
   "metadata": {
    "ExecuteTime": {
     "end_time": "2020-01-26T21:56:16.248869Z",
     "start_time": "2020-01-26T21:56:16.245142Z"
    }
   },
   "outputs": [],
   "source": [
    "# your code here\n",
    "\n",
    "f = np.empty(shape = [2, 3, 5])"
   ]
  },
  {
   "cell_type": "markdown",
   "metadata": {},
   "source": [
    "#### 16. Populate the values in *f*. \n",
    "\n",
    "For each value in *d*, if it's larger than *d_min* but smaller than *d_mean*, assign 25 to the corresponding value in *f*. If a value in *d* is larger than *d_mean* but smaller than *d_max*, assign 75 to the corresponding value in *f*. If a value equals to *d_mean*, assign 50 to the corresponding value in *f*. Assign 0 to the corresponding value(s) in *f* for *d_min* in *d*. Assign 100 to the corresponding value(s) in *f* for *d_max* in *d*. In the end, f should have only the following values: 0, 25, 50, 75, and 100.\n",
    "\n",
    "**Note**: you don't have to use Numpy in this question."
   ]
  },
  {
   "cell_type": "code",
   "execution_count": 232,
   "metadata": {
    "ExecuteTime": {
     "end_time": "2020-01-26T21:56:56.413661Z",
     "start_time": "2020-01-26T21:56:56.397774Z"
    }
   },
   "outputs": [],
   "source": [
    "# your code here\n",
    "\n",
    "# No sé si el objetivo del ejercicio es que lo hiciéramos iterando, pero de esa manera no he sabido como plantearlo.\n",
    "# He encontrado esta forma en stackoverflow y me funciona.\n",
    "# Lo interpreto como reemplazar directamente los elementos de la función f por cada valor (según los criterios de d)\n",
    "\n",
    "f [(d > d_min) & (d < d_mean)] = 25 # d larger than d_min but smaller than d_mean\n",
    "f [(d > d_mean) & (d < d_max)] = 75 # d larger than d_mean but smaller than d_max\n",
    "f [(d == d_mean)] = 50 # d equals to d_mean\n",
    "f [(d == d_min)] = 0 # for d_min in d\n",
    "f [(d == d_max)] = 100 # for d_max in d\n"
   ]
  },
  {
   "cell_type": "markdown",
   "metadata": {},
   "source": [
    "#### 17. Print *d* and *f*. Do you have your expected *f*?\n",
    "For instance, if your *d* is:\n",
    "```python\n",
    "[[[1.85836099, 1.67064465, 1.62576044, 1.40243961, 1.88454931],\n",
    "[1.75354326, 1.69403643, 1.36729252, 1.61415071, 1.12104981],\n",
    "[1.72201435, 1.1862918 , 1.87078449, 1.7726778 , 1.88180042]],\n",
    "[[1.44747908, 1.31673383, 1.02000951, 1.52218947, 1.97066381],\n",
    "[1.79129243, 1.74983003, 1.96028037, 1.85166831, 1.65450881],\n",
    "[1.18068344, 1.9587381 , 1.00656599, 1.93402165, 1.73514584]]]\n",
    "```\n",
    "Your *f* should be:\n",
    "```python\n",
    "[[[ 75.,  75.,  75.,  25.,  75.],\n",
    "[ 75.,  75.,  25.,  25.,  25.],\n",
    "[ 75.,  25.,  75.,  75.,  75.]],\n",
    "[[ 25.,  25.,  25.,  25., 100.],\n",
    "[ 75.,  75.,  75.,  75.,  75.],\n",
    "[ 25.,  75.,   0.,  75.,  75.]]]\n",
    "```"
   ]
  },
  {
   "cell_type": "code",
   "execution_count": 233,
   "metadata": {
    "ExecuteTime": {
     "end_time": "2020-01-26T21:57:00.719924Z",
     "start_time": "2020-01-26T21:57:00.712364Z"
    }
   },
   "outputs": [
    {
     "name": "stdout",
     "output_type": "stream",
     "text": [
      "[[[1.57494258 1.05845024 1.50159043 1.39268936 1.4848467 ]\n",
      "  [1.10549308 1.03852718 1.55102707 1.79676006 1.30340151]\n",
      "  [1.35820105 1.0853647  1.18920287 1.64218158 1.34850116]]\n",
      "\n",
      " [[1.65225389 1.71503137 1.55639067 1.55567036 1.15322639]\n",
      "  [1.26911817 1.99552653 1.17566154 1.18483521 1.67331349]\n",
      "  [1.29951677 1.19127028 1.85321157 1.74510213 1.99898379]]]\n"
     ]
    }
   ],
   "source": [
    "# your code here\n",
    "\n",
    "print (d)"
   ]
  },
  {
   "cell_type": "code",
   "execution_count": 234,
   "metadata": {
    "ExecuteTime": {
     "end_time": "2020-01-26T21:57:04.717891Z",
     "start_time": "2020-01-26T21:57:04.712298Z"
    }
   },
   "outputs": [
    {
     "name": "stdout",
     "output_type": "stream",
     "text": [
      "[[[ 75.  25.  75.  25.  75.]\n",
      "  [ 25.   0.  75.  75.  25.]\n",
      "  [ 25.  25.  25.  75.  25.]]\n",
      "\n",
      " [[ 75.  75.  75.  75.  25.]\n",
      "  [ 25.  75.  25.  25.  75.]\n",
      "  [ 25.  25.  75.  75. 100.]]]\n"
     ]
    }
   ],
   "source": [
    "print (f)"
   ]
  },
  {
   "cell_type": "markdown",
   "metadata": {},
   "source": [
    "#### 18. Bonus question: instead of using numbers (i.e. 0, 25, 50, 75, and 100), use string values  (\"A\", \"B\", \"C\", \"D\", and \"E\") to label the array elements. For the example above, the expected result is:\n",
    "\n",
    "```python\n",
    "[[[ 'D',  'D',  'D',  'B',  'D'],\n",
    "[ 'D',  'D',  'B',  'B',  'B'],\n",
    "[ 'D',  'B',  'D',  'D',  'D']],\n",
    "[[ 'B',  'B',  'B',  'B',  'E'],\n",
    "[ 'D',  'D',  'D',  'D',  'D'],\n",
    "[ 'B',  'D',   'A',  'D', 'D']]]\n",
    "```\n",
    "**Note**: you don't have to use Numpy in this question."
   ]
  },
  {
   "cell_type": "code",
   "execution_count": 235,
   "metadata": {
    "ExecuteTime": {
     "end_time": "2020-01-26T21:57:24.675793Z",
     "start_time": "2020-01-26T21:57:24.658488Z"
    }
   },
   "outputs": [
    {
     "ename": "ValueError",
     "evalue": "could not convert string to float: 'A'",
     "output_type": "error",
     "traceback": [
      "\u001b[0;31m---------------------------------------------------------------------------\u001b[0m",
      "\u001b[0;31mValueError\u001b[0m                                Traceback (most recent call last)",
      "\u001b[0;32m<ipython-input-235-01cbaded75ff>\u001b[0m in \u001b[0;36m<module>\u001b[0;34m\u001b[0m\n\u001b[1;32m      3\u001b[0m \u001b[0mf_letters\u001b[0m \u001b[0;34m=\u001b[0m \u001b[0mnp\u001b[0m\u001b[0;34m.\u001b[0m\u001b[0mempty\u001b[0m\u001b[0;34m(\u001b[0m\u001b[0mshape\u001b[0m\u001b[0;34m=\u001b[0m\u001b[0;34m[\u001b[0m\u001b[0;36m2\u001b[0m\u001b[0;34m,\u001b[0m \u001b[0;36m3\u001b[0m\u001b[0;34m,\u001b[0m \u001b[0;36m5\u001b[0m\u001b[0;34m]\u001b[0m\u001b[0;34m)\u001b[0m\u001b[0;34m\u001b[0m\u001b[0;34m\u001b[0m\u001b[0m\n\u001b[1;32m      4\u001b[0m \u001b[0;34m\u001b[0m\u001b[0m\n\u001b[0;32m----> 5\u001b[0;31m \u001b[0mf_letters\u001b[0m \u001b[0;34m[\u001b[0m\u001b[0;34m(\u001b[0m\u001b[0mf\u001b[0m \u001b[0;34m==\u001b[0m \u001b[0;36m0\u001b[0m\u001b[0;34m)\u001b[0m\u001b[0;34m]\u001b[0m \u001b[0;34m=\u001b[0m \u001b[0;34m\"A\"\u001b[0m\u001b[0;34m\u001b[0m\u001b[0;34m\u001b[0m\u001b[0m\n\u001b[0m\u001b[1;32m      6\u001b[0m \u001b[0mf_letters\u001b[0m \u001b[0;34m[\u001b[0m\u001b[0;34m(\u001b[0m\u001b[0mf\u001b[0m \u001b[0;34m==\u001b[0m \u001b[0;36m25\u001b[0m\u001b[0;34m)\u001b[0m\u001b[0;34m]\u001b[0m \u001b[0;34m=\u001b[0m \u001b[0;34m\"B\"\u001b[0m\u001b[0;34m\u001b[0m\u001b[0;34m\u001b[0m\u001b[0m\n\u001b[1;32m      7\u001b[0m \u001b[0mf_letters\u001b[0m \u001b[0;34m[\u001b[0m\u001b[0;34m(\u001b[0m\u001b[0mf\u001b[0m \u001b[0;34m==\u001b[0m \u001b[0;36m50\u001b[0m\u001b[0;34m)\u001b[0m\u001b[0;34m]\u001b[0m \u001b[0;34m=\u001b[0m \u001b[0;34m\"C\"\u001b[0m\u001b[0;34m\u001b[0m\u001b[0;34m\u001b[0m\u001b[0m\n",
      "\u001b[0;31mValueError\u001b[0m: could not convert string to float: 'A'"
     ]
    }
   ],
   "source": [
    "# your code here\n",
    "\n",
    "f_letters = np.empty(shape=[2, 3, 5])\n",
    "\n",
    "f_letters [(f == 0)] = \"A\"\n",
    "f_letters [(f == 25)] = \"B\"\n",
    "f_letters [(f == 50)] = \"C\"\n",
    "f_letters [(f == 75)] = \"D\"\n",
    "f_letters [(f == 100)] = \"E\"\n",
    "\n",
    "print(f_letters)\n",
    "\n",
    "# He seguido la misma lógica que en el ejercicio anterior, pero me da error que no sé solucionar.\n",
    "# ValueError: could not convert string to float: 'A'\n",
    "# Si hago print(f.dtype) me indica que es float64. No entiendo porque me dice que no puede convertir desde string.\n"
   ]
  }
 ],
 "metadata": {
  "kernelspec": {
   "display_name": "Python 3",
   "language": "python",
   "name": "python3"
  },
  "language_info": {
   "codemirror_mode": {
    "name": "ipython",
    "version": 3
   },
   "file_extension": ".py",
   "mimetype": "text/x-python",
   "name": "python",
   "nbconvert_exporter": "python",
   "pygments_lexer": "ipython3",
   "version": "3.8.0"
  },
  "toc": {
   "base_numbering": 1,
   "nav_menu": {},
   "number_sections": true,
   "sideBar": true,
   "skip_h1_title": false,
   "title_cell": "Table of Contents",
   "title_sidebar": "Contents",
   "toc_cell": false,
   "toc_position": {},
   "toc_section_display": true,
   "toc_window_display": false
  },
  "varInspector": {
   "cols": {
    "lenName": 16,
    "lenType": 16,
    "lenVar": 40
   },
   "kernels_config": {
    "python": {
     "delete_cmd_postfix": "",
     "delete_cmd_prefix": "del ",
     "library": "var_list.py",
     "varRefreshCmd": "print(var_dic_list())"
    },
    "r": {
     "delete_cmd_postfix": ") ",
     "delete_cmd_prefix": "rm(",
     "library": "var_list.r",
     "varRefreshCmd": "cat(var_dic_list()) "
    }
   },
   "types_to_exclude": [
    "module",
    "function",
    "builtin_function_or_method",
    "instance",
    "_Feature"
   ],
   "window_display": false
  }
 },
 "nbformat": 4,
 "nbformat_minor": 2
}
